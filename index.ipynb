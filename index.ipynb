{
 "cells": [
  {
   "cell_type": "markdown",
   "metadata": {},
   "source": [
    "# One-Sample z-test - Lab\n",
    "\n",
    "## Introduction\n",
    "In this lab, you'll perform a few quick tests to help you better understand how hypothesis testing works.\n",
    "\n",
    "## Objectives\n",
    "You will be able to:\n",
    "\n",
    "* Explain use cases for a 1-sample z-test\n",
    "* Set up null and alternative hypotheses\n",
    "* Use the z-table and scipy methods to acquire the p value for a given z-score\n",
    "* Calculate and interpret p-value for significance of results\n",
    "\n",
    "## Exercise 1\n",
    "A fast-food chain claims that the mean time to order food at their restaurants is 60 seconds, with a standard deviation of 30 seconds. You decide to put this claim to the test and go to one of the restaurants to observe actual waiting times. You take a sample of 36 customers and find that the mean order time was 75 seconds. Does this finding provide enough evidence to contradict the fast food chain's claim of fast service?\n",
    "\n",
    "Follow the 5 steps shown in previous lesson and use $\\alpha$ = 0.05. "
   ]
  },
  {
   "cell_type": "code",
   "execution_count": 6,
   "metadata": {},
   "outputs": [],
   "source": [
    "# State your null and alternative hypotheses\n",
    "# H_0 ----> t_0 = 60\n",
    "# H_a ----> t_0 != 60\n",
    "\n",
    "\n",
    "# State your null and alternative hypotheses\n",
    "\n",
    "\n",
    "# Ha : the time to order food is bigger than 60 seconds\n",
    "# Ho : the time to order food is less than or equal to 60 sec"
   ]
  },
  {
   "cell_type": "code",
   "execution_count": 5,
   "metadata": {},
   "outputs": [
    {
     "name": "stdout",
     "output_type": "stream",
     "text": [
      "Z score is 3.0 and we can find p-value as 0.0013498980316301035\n"
     ]
    }
   ],
   "source": [
    "# Your solution here\n",
    "from math import sqrt\n",
    "import scipy.stats as stats\n",
    "mu = 60\n",
    "x_bar = 75\n",
    "n = 36\n",
    "sd = 30\n",
    "se = sd / sqrt(n)\n",
    "\n",
    "z = (x_bar - mu) / se\n",
    "\n",
    "z_accu = stats.norm.cdf(z)\n",
    "p = 1 - z_accu\n",
    "print(f\"Z score is {z} and we can find p-value as {p}\")\n",
    "# (p = 0.0013498980316301035, z = 3.0)"
   ]
  },
  {
   "cell_type": "code",
   "execution_count": 6,
   "metadata": {},
   "outputs": [],
   "source": [
    "# Interpret the results in terms of the p-value\n",
    "\n",
    "# since p < alpha, we can reject the Null hypothesis and the mean time to order\n",
    "# is not as it's claimed to be 60 seconds.\n",
    "\n",
    "#### From GitHub \n",
    "\n",
    "# with p-value less than 0.05, you can reject the null hypothesis and say that\n",
    "# the time to order food is significantly higher than what the fast food chain \n",
    "# claims. "
   ]
  },
  {
   "cell_type": "markdown",
   "metadata": {},
   "source": [
    "## Exercise 2\n",
    "\n",
    "25 students complete a preparation program for taking the SAT test.  Here are the SAT scores from the 25 students who completed the program:\n",
    "\n",
    "``\n",
    "434 694 457 534 720 400 484 478 610 641 425 636 454 \n",
    "514 563 370 499 640 501 625 612 471 598 509 531\n",
    "``\n",
    "\n",
    "We know that the population average for SAT scores is 500 with a standard deviation of 100.\n",
    "\n",
    "Are our 25 students’ SAT scores significantly higher than the population's mean score? \n",
    "\n",
    "*Note that the SAT preparation program claims that it will increase (and not decrease) the SAT score.  So, you can conduct a one-directional test. (alpha = .05).*"
   ]
  },
  {
   "cell_type": "code",
   "execution_count": null,
   "metadata": {},
   "outputs": [],
   "source": [
    "# State your hypotheses \n",
    "# H_0 ----> mu = 500 meaning that the program dose not have a significant effect\n",
    "# H_a ----> mu != 500 or program has the significant effect\n",
    "\n",
    "\n",
    "\n",
    "# State your hypotheses \n",
    "\n",
    "\n",
    "# Ha : there is an increase in grades after program\n",
    "# Ho : there is no increase in grade "
   ]
  },
  {
   "cell_type": "code",
   "execution_count": 10,
   "metadata": {},
   "outputs": [
    {
     "name": "stdout",
     "output_type": "stream",
     "text": [
      "Z score is 1.8 and we can find p-value as 0.03593031911292577\n"
     ]
    }
   ],
   "source": [
    "# Give your solution here \n",
    "from math import sqrt\n",
    "import numpy as np\n",
    "import scipy.stats as stats\n",
    "\n",
    "mu = 500\n",
    "sd = 100\n",
    "\n",
    "sample = np.array([434, 694, 457, 534, 720, 400, 484, 478, 610, 641, 425, 636,\n",
    "                   454, 514, 563, 370, 499, 640, 501, 625, 612, 471, 598, 509,\n",
    "                   531])\n",
    "x_bar = sample.mean()\n",
    "n = len(sample)\n",
    "se = sd / sqrt(n)\n",
    "\n",
    "z = (x_bar - mu) / se\n",
    "\n",
    "z_accu = stats.norm.cdf(z)\n",
    "p = 1 - z_accu\n",
    "\n",
    "print(f\"Z score is {z} and we can find p-value as {p}\")\n",
    "# p = 0.03593031911292577, z = 1.8"
   ]
  },
  {
   "cell_type": "code",
   "execution_count": 11,
   "metadata": {},
   "outputs": [],
   "source": [
    "# Interpret the results in terms of the p-value\n",
    "# P < alpha so We can reject the null value and program has a significant\n",
    "# effect on SAT results.\n",
    "\n",
    "### From GitHub\n",
    "# Interpret the results in terms of the p-value\n",
    "\n",
    "# The p value is less than tha alpha so we can conclude that:\n",
    "# the training has a SIGNIFICANT effect on the SAT outcome at a significance level of 0.05"
   ]
  },
  {
   "cell_type": "markdown",
   "metadata": {},
   "source": [
    "## Summary\n",
    "\n",
    "In this lesson, you conducted a couple of simple tests comparing sample and population means, in an attempt to reject our null hypotheses. This provides you with a strong foundation to move ahead with more advanced tests and approaches later on."
   ]
  }
 ],
 "metadata": {
  "kernelspec": {
   "display_name": "Python 3",
   "language": "python",
   "name": "python3"
  },
  "language_info": {
   "codemirror_mode": {
    "name": "ipython",
    "version": 3
   },
   "file_extension": ".py",
   "mimetype": "text/x-python",
   "name": "python",
   "nbconvert_exporter": "python",
   "pygments_lexer": "ipython3",
   "version": "3.8.5"
  },
  "latex_envs": {
   "LaTeX_envs_menu_present": true,
   "autoclose": false,
   "autocomplete": true,
   "bibliofile": "biblio.bib",
   "cite_by": "apalike",
   "current_citInitial": 1,
   "eqLabelWithNumbers": true,
   "eqNumInitial": 1,
   "hotkeys": {
    "equation": "Ctrl-E",
    "itemize": "Ctrl-I"
   },
   "labels_anchors": false,
   "latex_user_defs": false,
   "report_style_numbering": false,
   "user_envs_cfg": false
  },
  "toc": {
   "base_numbering": 1,
   "nav_menu": {},
   "number_sections": true,
   "sideBar": true,
   "skip_h1_title": false,
   "title_cell": "Table of Contents",
   "title_sidebar": "Contents",
   "toc_cell": false,
   "toc_position": {},
   "toc_section_display": true,
   "toc_window_display": false
  },
  "varInspector": {
   "cols": {
    "lenName": 16,
    "lenType": 16,
    "lenVar": 40
   },
   "kernels_config": {
    "python": {
     "delete_cmd_postfix": "",
     "delete_cmd_prefix": "del ",
     "library": "var_list.py",
     "varRefreshCmd": "print(var_dic_list())"
    },
    "r": {
     "delete_cmd_postfix": ") ",
     "delete_cmd_prefix": "rm(",
     "library": "var_list.r",
     "varRefreshCmd": "cat(var_dic_list()) "
    }
   },
   "types_to_exclude": [
    "module",
    "function",
    "builtin_function_or_method",
    "instance",
    "_Feature"
   ],
   "window_display": false
  }
 },
 "nbformat": 4,
 "nbformat_minor": 2
}
